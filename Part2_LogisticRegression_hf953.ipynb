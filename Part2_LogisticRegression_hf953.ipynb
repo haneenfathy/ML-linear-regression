{
 "cells": [
  {
   "cell_type": "markdown",
   "metadata": {},
   "source": [
    "# Logistic Regression \n",
    "\n",
    "In the assignment, you will use gradient ascent to find the weights for the logistic regression.   \n",
    "\n",
    "As an example, we will use the widely-used breast cancer data set.  This data set is described here:\n",
    "\n",
    "https://archive.ics.uci.edu/ml/machine-learning-databases/breast-cancer-wisconsin\n"
   ]
  },
  {
   "cell_type": "markdown",
   "metadata": {},
   "source": [
    "## Step 1:  Getting, preprocessing, and understanding the dataset"
   ]
  },
  {
   "cell_type": "markdown",
   "metadata": {},
   "source": [
    "### Importing the standard libraries"
   ]
  },
  {
   "cell_type": "code",
   "execution_count": 1,
   "metadata": {},
   "outputs": [],
   "source": [
    "# Importing important libraries\n",
    "# Import breastcancer dataset\n",
    "# Import preprocessing from sklearn\n",
    "# Import train_test_split from sklearn\n",
    "# Import numpy,math\n",
    "import numpy as np\n",
    "import sklearn\n",
    "from sklearn import preprocessing\n",
    "from sklearn.model_selection import train_test_split\n",
    "import sklearn.linear_model\n",
    "from sklearn.model_selection import KFold\n",
    "import matplotlib.pyplot as plt\n",
    "from sklearn.linear_model import LinearRegression\n",
    "from sklearn.metrics import mean_squared_error\n",
    "from sklearn.datasets import load_breast_cancer\n",
    "from sklearn.linear_model import LogisticRegression"
   ]
  },
  {
   "cell_type": "markdown",
   "metadata": {},
   "source": [
    "### Importing the dataset"
   ]
  },
  {
   "cell_type": "code",
   "execution_count": 2,
   "metadata": {},
   "outputs": [],
   "source": [
    "# Load dataset to a python variable cancer\n",
    "# Store target to a variable called y\n",
    "# Store feature to a variable called X\n",
    "X,y = load_breast_cancer(return_X_y=True)\n",
    "cancer=load_breast_cancer()"
   ]
  },
  {
   "cell_type": "code",
   "execution_count": 3,
   "metadata": {
    "scrolled": true
   },
   "outputs": [
    {
     "name": "stdout",
     "output_type": "stream",
     "text": [
      "(569, 30)\n",
      "(569,)\n"
     ]
    }
   ],
   "source": [
    "# Printing the shape of data (X) and target (Y) values \n",
    "print(X.shape)\n",
    "print(y.shape)"
   ]
  },
  {
   "cell_type": "markdown",
   "metadata": {},
   "source": [
    "### Data Pre-Processing\n",
    "#### Splitting the data into train and test before scaling the dataset\n"
   ]
  },
  {
   "cell_type": "code",
   "execution_count": 4,
   "metadata": {},
   "outputs": [],
   "source": [
    "# Use train_test_split() function to split the dataset\n",
    "X_train, X_test, y_train, y_test = train_test_split(X, y, test_size=0.25, random_state=42)\n",
    "# Store the return value of pervious step to X_train, X_test, y_train, y_test"
   ]
  },
  {
   "cell_type": "markdown",
   "metadata": {},
   "source": [
    "#### Scale the data since we will be using gradient ascent"
   ]
  },
  {
   "cell_type": "code",
   "execution_count": 5,
   "metadata": {},
   "outputs": [],
   "source": [
    "# Find the scaler of the dataset by using preprocessing.StandardScaler().fit()\n",
    "# Using this scale to scale the X_train and X_test using .transform()\n",
    "scaler = preprocessing.StandardScaler().fit(X_train)\n",
    "X_train=scaler.transform(X_train)\n",
    "X_test=scaler.transform(X_test)"
   ]
  },
  {
   "cell_type": "code",
   "execution_count": 6,
   "metadata": {},
   "outputs": [
    {
     "name": "stdout",
     "output_type": "stream",
     "text": [
      "(426, 30)\n",
      "(426,)\n"
     ]
    }
   ],
   "source": [
    "# TODO - Print the shape of x_train and y_train \n",
    "# print(X_train.shape) # It should print (426, 30)\n",
    "# print(y_train.shape) # It should print (426,)\n",
    "print(X_train.shape)\n",
    "print(y_train.shape)"
   ]
  },
  {
   "cell_type": "markdown",
   "metadata": {},
   "source": [
    "#### Adding a column of ones to the  matrices $X_{train}$ and  $X_{test}$\n",
    "After adding a column of ones $X_{train}=\\left[\\begin{matrix}\n",
    "1& x^{(1)}_1& x^{(1)}_2 &\\ldots& x^{(1)}_d\\\\\n",
    "1& x^{(2)}_1& x^{(2)}_2 &\\ldots& x^{(2)}_d\\\\\n",
    "\\vdots & \\vdots &\\vdots & & \\vdots \\\\\n",
    "1& x^{(N')}_1& x^{(N')}_2 &\\ldots& x^{(N')}_d\\\\\n",
    "\\end{matrix}\\right]$\n",
    "\n",
    "Similarly for $X_{test}$"
   ]
  },
  {
   "cell_type": "code",
   "execution_count": 7,
   "metadata": {},
   "outputs": [
    {
     "name": "stdout",
     "output_type": "stream",
     "text": [
      "The trainng data has dimensions:  (426, 31) . The testing data has dimensions:  (143, 31)\n",
      "[[ 1.         -0.34913849 -1.43851335 ... -0.91671059 -0.92508585\n",
      "  -0.80841115]\n",
      " [ 1.         -0.20468665  0.31264011 ...  1.43655962  1.14955889\n",
      "   1.56911143]\n",
      " [ 1.         -0.32931176 -0.21507235 ... -0.7237126   0.53496977\n",
      "  -0.61934827]\n",
      " ...\n",
      " [ 1.          0.04739597 -0.56293662 ... -1.23262438 -0.68282718\n",
      "  -1.261137  ]\n",
      " [ 1.         -0.04040808  0.09966199 ...  1.08847951  0.48944465\n",
      "   1.26159953]\n",
      " [ 1.         -0.5502381   0.31264011 ... -0.59582424 -0.29911546\n",
      "  -0.82948141]]\n",
      "[[ 1.         -0.34913849 -1.43851335 -0.41172595 -0.39047943 -1.86366229\n",
      "  -1.26860704 -0.82617052 -0.95286585 -1.72936805 -0.9415409  -0.86971355\n",
      "  -1.35865347 -0.83481506 -0.57230673 -0.74586846 -0.65398319 -0.52583524\n",
      "  -0.94677147 -0.53781728 -0.63449458 -0.54268486 -1.65565452 -0.58986401\n",
      "  -0.52555985 -1.51066925 -0.89149994 -0.75021715 -0.91671059 -0.92508585\n",
      "  -0.80841115]\n",
      " [ 1.         -0.20468665  0.31264011 -0.13367256 -0.27587995  1.07807258\n",
      "   0.86354605  0.72631375  0.89844062  1.17876963  1.47437716 -0.04022275\n",
      "  -0.50962253  0.10947722 -0.13472838 -0.52489487 -0.14934475  0.07460028\n",
      "   0.23747244 -0.43028253  0.08289146  0.04148684  0.68989862  0.19412774\n",
      "  -0.05193356  1.12941497  0.92394223  1.22221738  1.43655962  1.14955889\n",
      "   1.56911143]]\n",
      "(426,)\n"
     ]
    }
   ],
   "source": [
    "# Append a column of ones to x_train \n",
    "ones = np.ones((X_train.shape[0],1)) \n",
    "X_train = np.hstack((ones,X_train))\n",
    "# Create a column vector of ones by using np.ones and reshape\n",
    "# Append a column of ones in the beginning of x_train by using np.hstack\n",
    "\n",
    "# Now do the same for the test data\n",
    "ones = np.ones((X_test.shape[0], 1)) \n",
    "X_test = np.hstack((ones,X_test))\n",
    "\n",
    "# We can check that everything worked correctly by:\n",
    "# Printing out the new dimensions\n",
    "print(\"The trainng data has dimensions: \", X_train.shape, \". The testing data has dimensions: \",X_test.shape)\n",
    "# # Looking at the first two rows of X_train to check everything worked as expected\n",
    "print(X_train)\n",
    "print(X_train[0:2])\n",
    "\n",
    "print(y_train.shape)"
   ]
  },
  {
   "cell_type": "markdown",
   "metadata": {},
   "source": [
    "### Understanding the dataset"
   ]
  },
  {
   "cell_type": "code",
   "execution_count": 8,
   "metadata": {},
   "outputs": [],
   "source": [
    "# Printing the names of all the features\n",
    "# print(cancer.feature_names)"
   ]
  },
  {
   "cell_type": "code",
   "execution_count": 9,
   "metadata": {},
   "outputs": [],
   "source": [
    "# You can add your own code here to better understand the dataset"
   ]
  },
  {
   "cell_type": "markdown",
   "metadata": {},
   "source": [
    "\n",
    " Before writing the gradient ascent code, first write some helpful functions"
   ]
  },
  {
   "cell_type": "markdown",
   "metadata": {},
   "source": [
    "\n",
    " \n",
    "### Sigmoid($z$)\n",
    "The first function you will write is sigmoid($z$)\n",
    "\n",
    "sigmoid($z$) takes as input a column vector of real numbers, $z^T = [z_1, z_2, ..., z_{N'}]$, where $N'$ is the number of  examples\n",
    "\n",
    "It should produce as output a column vector $\\left[\\frac{1}{1+e^{-z_1}},\\frac{1}{1+e^{-z_2}},...,\\frac{1}{1+e^{-z_{N'}}}\\right]^T$"
   ]
  },
  {
   "cell_type": "code",
   "execution_count": 10,
   "metadata": {},
   "outputs": [],
   "source": [
    "# Write the sigmoid function\n",
    "def sigmoid(z):\n",
    "    \n",
    "    return 1 / (1 + np.exp(-z))\n"
   ]
  },
  {
   "cell_type": "markdown",
   "metadata": {},
   "source": [
    "### Initializing ${\\bf w}$\n",
    "For testing the next functions, we create a coefficient vector, ${\\bf w}$.\n",
    "We will initialize the coeffients to be $0$, i.e. ${\\bf w}^T = [0,0,\\ldots ,0]$ (We could have initialized ${\\bf w}$ to any values.)"
   ]
  },
  {
   "cell_type": "code",
   "execution_count": 11,
   "metadata": {
    "scrolled": true
   },
   "outputs": [],
   "source": [
    "# Initialize w using np.zeros()\n",
    "\n",
    "w=np.zeros((X_train.shape[1],1))\n"
   ]
  },
  {
   "cell_type": "markdown",
   "metadata": {},
   "source": [
    "### Our hypothesis, $h({\\bf x})$\n",
    "The next  function to write is our hypothesis function. \n",
    "\n",
    "For example if our design matrix $X$ consists of single example $X=[1,x_1,x_2,\\ldots,x_d]$ and  weights ${\\bf w}^T=[w_0,w_2,\\ldots, w_d]$, it returns $h({\\bf x})=\\frac{1}{1+e^{-\\left({w_{0}\\cdot 1 +w_1\\cdot x_1+\\cdots w_d\\cdot x_d}\\right)}}$\n",
    "\n",
    "If given a  matrix consisting of $N'$ examples \n",
    "$X=\\left[\\begin{matrix}\n",
    "1& x^{(1)}_1& x^{(1)}_2 &\\ldots& x^{(1)}_d\\\\\n",
    "1& x^{(2)}_1& x^{(2)}_2 &\\ldots& x^{(2)}_d\\\\\n",
    "\\vdots & \\vdots &\\vdots & & \\vdots \\\\\n",
    "1& x^{(N')}_1& x^{(N')}_2 &\\ldots& x^{(N')}_d\\\\\n",
    "\\end{matrix}\\right]$\n",
    "and  weights ${\\bf w}^T=[w_0,w_2,\\ldots, w_d]$, the function returns a column vector\n",
    "$[h({\\bf x}^{(1)}),h({\\bf x}^{(2)},\\ldots, h({\\bf x}^{(N')}]^T$"
   ]
  },
  {
   "cell_type": "code",
   "execution_count": 12,
   "metadata": {},
   "outputs": [],
   "source": [
    "# Predict the probability that a patient has cancer \n",
    "# Write the hypothesis function \n",
    "def hypothesis(X , w):\n",
    "    h=sigmoid(np.dot(X, w))\n",
    "    return h\n",
    "\n"
   ]
  },
  {
   "cell_type": "code",
   "execution_count": 13,
   "metadata": {},
   "outputs": [],
   "source": [
    "w=np.zeros((X_train.shape[1],1))"
   ]
  },
  {
   "cell_type": "markdown",
   "metadata": {},
   "source": [
    "### Log-Likelihood Function.\n",
    "Write the code to calculate the log likelihood function $\\ell({\\bf w})=\n",
    "\\sum_{i=1}^{N'}y^{(i)}\\ln(h({\\bf x}^{(i)})) +(1- y^{(i)})\\ln(1-h({\\bf x}^{(i)}))$\n",
    "\n",
    "The input is a matrix consisting of $N'$ examples $X=\\left[\\begin{matrix}\n",
    "1& x^{(1)}_1& x^{(1)}_2 &\\ldots& x^{(1)}_d\\\\\n",
    "1& x^{(2)}_1& x^{(2)}_2 &\\ldots& x^{(2)}_d\\\\\n",
    "\\vdots & \\vdots &\\vdots & & \\vdots \\\\\n",
    "1& x^{(N')}_1& x^{(N')}_2 &\\ldots& x^{(N')}_d\\\\\n",
    "\\end{matrix}\\right]$\n",
    "and a column vector ${\\bf y}^T=[y^{(1)},y^{(2)},\\dots,y^{(N')}]$ of labels for $X$.\n",
    "\n",
    "The output is $\\ell({\\bf w})$"
   ]
  },
  {
   "cell_type": "code",
   "execution_count": 14,
   "metadata": {},
   "outputs": [],
   "source": [
    "# Write the log likelihood function \n",
    "def log_likelihood(X , y , w ):\n",
    "    s = np.dot(X, w)\n",
    "    like = np.sum( y*s - np.log(1 + np.exp(s)) )\n",
    "    return like\n",
    "\n",
    "\n"
   ]
  },
  {
   "cell_type": "markdown",
   "metadata": {},
   "source": [
    "# Gradient Ascent\n",
    "Now write the code to perform gradient ascent.  You will use the update rule from the lecture notes."
   ]
  },
  {
   "cell_type": "code",
   "execution_count": 15,
   "metadata": {},
   "outputs": [],
   "source": [
    "# TODO - Write the gradient ascent function \n",
    "def Logistic_Regresion_Gradient_Ascent(X, y, learning_rate, num_iters):\n",
    "    # For every 100 iterations, store the log_likelihood for the current w\n",
    "    # Initializing log_likelihood to be an empty list  \n",
    "    # Initialize w to be a zero vector of shape x_train.shape[1],1\n",
    "    # Initialize N to the number of training examples\n",
    "    log_likelihood_values=[]\n",
    "    w=np.zeros((X.shape[1],1))\n",
    "#     print(w)\n",
    "    N=X.shape[0]\n",
    "    y=y.reshape(X.shape[0],1)\n",
    "    for i in range(num_iters):\n",
    "        h=hypothesis(X,w)\n",
    "        gradient = (1 / N) * np.matmul(X.T, (y - h))\n",
    "        w = w+(learning_rate * gradient)\n",
    "        if i % 100 == 0:\n",
    "            val =log_likelihood(X, y, w)\n",
    "            log_likelihood_values.append(val)\n",
    "            print('Iteration Number: ',i,'------','Log Likelihood Value: ',val)\n",
    "        \n",
    "        # update the w using formula \n",
    "        # append the log_likelihodd values to the list for every 100 iterations\n",
    "        \n",
    "    return w ,log_likelihood_values\n",
    "\n"
   ]
  },
  {
   "cell_type": "markdown",
   "metadata": {},
   "source": [
    "### After completing the code above, run the following"
   ]
  },
  {
   "cell_type": "code",
   "execution_count": 16,
   "metadata": {},
   "outputs": [
    {
     "name": "stdout",
     "output_type": "stream",
     "text": [
      "Iteration Number:  0 ------ Log Likelihood Value:  -287.13806310797196\n",
      "Iteration Number:  100 ------ Log Likelihood Value:  -109.07046636871948\n",
      "Iteration Number:  200 ------ Log Likelihood Value:  -82.81594468809607\n",
      "Iteration Number:  300 ------ Log Likelihood Value:  -70.81316442317494\n",
      "Iteration Number:  400 ------ Log Likelihood Value:  -63.643249284976605\n",
      "Iteration Number:  500 ------ Log Likelihood Value:  -58.76677404827597\n",
      "Iteration Number:  600 ------ Log Likelihood Value:  -55.18000266634923\n",
      "Iteration Number:  700 ------ Log Likelihood Value:  -52.40034899283923\n",
      "Iteration Number:  800 ------ Log Likelihood Value:  -50.164641435551985\n",
      "Iteration Number:  900 ------ Log Likelihood Value:  -48.31593009823706\n",
      "Iteration Number:  1000 ------ Log Likelihood Value:  -46.75412903198439\n",
      "Iteration Number:  1100 ------ Log Likelihood Value:  -45.412012215271886\n",
      "Iteration Number:  1200 ------ Log Likelihood Value:  -44.24251991505457\n",
      "Iteration Number:  1300 ------ Log Likelihood Value:  -43.21158412479137\n",
      "Iteration Number:  1400 ------ Log Likelihood Value:  -42.29384744745689\n",
      "Iteration Number:  1500 ------ Log Likelihood Value:  -41.46999084329319\n",
      "Iteration Number:  1600 ------ Log Likelihood Value:  -40.725001074164695\n",
      "Iteration Number:  1700 ------ Log Likelihood Value:  -40.04701040089549\n",
      "Iteration Number:  1800 ------ Log Likelihood Value:  -39.426497497389995\n",
      "Iteration Number:  1900 ------ Log Likelihood Value:  -38.855723582416445\n",
      "Iteration Number:  2000 ------ Log Likelihood Value:  -38.32832595290944\n",
      "Iteration Number:  2100 ------ Log Likelihood Value:  -37.83901940848294\n",
      "Iteration Number:  2200 ------ Log Likelihood Value:  -37.383373224731805\n",
      "Iteration Number:  2300 ------ Log Likelihood Value:  -36.9576420452087\n",
      "Iteration Number:  2400 ------ Log Likelihood Value:  -36.55863591810241\n",
      "Iteration Number:  2500 ------ Log Likelihood Value:  -36.18361919317525\n",
      "Iteration Number:  2600 ------ Log Likelihood Value:  -35.830230995717656\n",
      "Iteration Number:  2700 ------ Log Likelihood Value:  -35.49642203853294\n",
      "Iteration Number:  2800 ------ Log Likelihood Value:  -35.180403949407264\n",
      "Iteration Number:  2900 ------ Log Likelihood Value:  -34.880608288423474\n",
      "Iteration Number:  3000 ------ Log Likelihood Value:  -34.595653141242806\n",
      "Iteration Number:  3100 ------ Log Likelihood Value:  -34.32431568941816\n",
      "Iteration Number:  3200 ------ Log Likelihood Value:  -34.06550953591223\n",
      "Iteration Number:  3300 ------ Log Likelihood Value:  -33.818265843300765\n",
      "Iteration Number:  3400 ------ Log Likelihood Value:  -33.58171755118529\n",
      "Iteration Number:  3500 ------ Log Likelihood Value:  -33.35508609733127\n",
      "Iteration Number:  3600 ------ Log Likelihood Value:  -33.137670187541254\n",
      "Iteration Number:  3700 ------ Log Likelihood Value:  -32.92883625195485\n",
      "Iteration Number:  3800 ------ Log Likelihood Value:  -32.72801029732457\n",
      "Iteration Number:  3900 ------ Log Likelihood Value:  -32.53467092094729\n",
      "Iteration Number:  4000 ------ Log Likelihood Value:  -32.34834329608551\n",
      "Iteration Number:  4100 ------ Log Likelihood Value:  -32.16859397367679\n",
      "Iteration Number:  4200 ------ Log Likelihood Value:  -31.995026372990942\n",
      "Iteration Number:  4300 ------ Log Likelihood Value:  -31.827276856225872\n",
      "Iteration Number:  4400 ------ Log Likelihood Value:  -31.665011300034323\n",
      "Iteration Number:  4500 ------ Log Likelihood Value:  -31.507922091560616\n",
      "Iteration Number:  4600 ------ Log Likelihood Value:  -31.35572548844675\n",
      "Iteration Number:  4700 ------ Log Likelihood Value:  -31.208159291990537\n",
      "Iteration Number:  4800 ------ Log Likelihood Value:  -31.06498079063079\n",
      "Iteration Number:  4900 ------ Log Likelihood Value:  -30.92596493753601\n"
     ]
    }
   ],
   "source": [
    "# Set the learning_rate\n",
    "# Set the num_iters\n",
    "# Run the Logistic_Regresion_Gradient_Ascent() and store the returned values\n",
    "w_final,log_likelihood_values= Logistic_Regresion_Gradient_Ascent(X_train, y_train, 0.01, 5000)\n",
    "# print(w_final)\n",
    "\n",
    "# cancer = LogisticRegression(C=1e20)\n",
    "# cancer.fit(X_train, y_train)\n",
    "# cancer.coef_"
   ]
  },
  {
   "cell_type": "markdown",
   "metadata": {},
   "source": [
    "##### Plotting Likelihood v/s Number of Iterations."
   ]
  },
  {
   "cell_type": "code",
   "execution_count": 17,
   "metadata": {},
   "outputs": [
    {
     "data": {
      "image/png": "[encoded data removed]",
      "text/plain": [
       "<Figure size 432x288 with 1 Axes>"
      ]
     },
     "metadata": {
      "needs_background": "light"
     },
     "output_type": "display_data"
    }
   ],
   "source": [
    "# Run this cell to plot Likelihood v/s Number of Iterations.\n",
    "iters = np.array(range(0,5000,100))\n",
    "plt.plot(iters,log_likelihood_values,'.-',color='green')\n",
    "plt.xlabel('Number of iterations')\n",
    "plt.ylabel('Likelihood')\n",
    "plt.title(\"Likelihood vs Number of Iterations.\")\n",
    "plt.grid()"
   ]
  },
  {
   "cell_type": "markdown",
   "metadata": {},
   "source": [
    "#  Evaluating your model"
   ]
  },
  {
   "cell_type": "code",
   "execution_count": 18,
   "metadata": {},
   "outputs": [],
   "source": [
    "# use hypothesis(...) to predict.\n",
    "\n",
    "\n",
    "def predict(X_test, w_final):\n",
    "    threshold=0.5\n",
    "    predicted_values=[]\n",
    "    predictions=hypothesis(X_test,w_final)\n",
    "    for i in predictions:\n",
    "        if i >=threshold:\n",
    "            predicted_values.append(1)\n",
    "        else:\n",
    "            predicted_values.append(0)\n",
    "    return predicted_values\n",
    "\n",
    "\n",
    "predicted_values=predict(X_test,w_final)\n"
   ]
  },
  {
   "cell_type": "code",
   "execution_count": 19,
   "metadata": {},
   "outputs": [
    {
     "name": "stdout",
     "output_type": "stream",
     "text": [
      "143\n",
      "Precision:  0.9887640449438202\n",
      "Recall:  0.9887640449438202\n",
      "F1:  0.9887640449438202\n",
      "Confusion Matrix: \n",
      "TP:  88  FN:  1  FP:  1  TN:  53\n"
     ]
    }
   ],
   "source": [
    "TP=0\n",
    "FP=0\n",
    "FN=0\n",
    "TN=0\n",
    "\n",
    "print(y_test.shape[0])\n",
    "for i in range(y_test.shape[0]):\n",
    "    if y_test[i]==0 and predicted_values[i]==0:\n",
    "        TN=TN+1\n",
    "    if y_test[i]==0 and predicted_values[i]==1:\n",
    "        FP=FP+1\n",
    "    if y_test[i]==1 and predicted_values[i]==1:\n",
    "        TP=TP+1\n",
    "    if y_test[i]==1 and predicted_values[i]==0:\n",
    "        FN=FN+1\n",
    "    # count TP,FP,FN,FP\n",
    "        \n",
    "# calculate precision, recall and f1\n",
    "precision= TP/(TP+FP)\n",
    "print(\"Precision: \",precision)\n",
    "recall=TP/(TP+FN)\n",
    "print(\"Recall: \",recall)\n",
    "f1=2*(precision*recall)/(precision+recall)\n",
    "print(\"F1: \",f1)\n",
    "print(\"Confusion Matrix: \")\n",
    "print(\"TP: \",TP,\" FN: \",FN,\" FP: \",FP,\" TN: \",TN)"
   ]
  },
  {
   "cell_type": "markdown",
   "metadata": {},
   "source": [
    "# Logistic Regression Report\n",
    "\n",
    "Best Learning rate = 0.1 \n",
    "That learning rate gave us the least amount of false positives and false negatives.\n",
    "Increasing the number of iterations didn't change the results in any significant way so I concluded that after a certain value the change is minimal. \n",
    "\n",
    "## To run the program:\n",
    "1. Run the last block of code to display the precision, recall, F1, and the confusion matrix.\n",
    "2. Run the predict function to predict if a tumor is benign or malignant.\n",
    "\n",
    "## Detailed description:\n",
    "\n",
    "1. I import tha dataset and and split it.\n",
    "2. I initialize w with zeros and run my hypothesis function.\n",
    "3. I run my gradient ascent function 5000 times to reach my final w values. \n",
    "4. I print the log likelihood values every 100 steps.\n",
    "5. I use the final w values and run my hypothesis function again to find my predictions which I then compare to my threshold.\n",
    "6. I use the predicted values to build my confusion matrix and find all my accuracy values."
   ]
  },
  {
   "cell_type": "code",
   "execution_count": null,
   "metadata": {},
   "outputs": [],
   "source": []
  }
 ],
 "metadata": {
  "kernelspec": {
   "display_name": "Python 3",
   "language": "python",
   "name": "python3"
  },
  "language_info": {
   "codemirror_mode": {
    "name": "ipython",
    "version": 3
   },
   "file_extension": ".py",
   "mimetype": "text/x-python",
   "name": "python",
   "nbconvert_exporter": "python",
   "pygments_lexer": "ipython3",
   "version": "3.7.0"
  }
 },
 "nbformat": 4,
 "nbformat_minor": 2
}
